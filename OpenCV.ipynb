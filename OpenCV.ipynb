{
 "cells": [
  {
   "cell_type": "code",
   "execution_count": 1,
   "metadata": {},
   "outputs": [
    {
     "data": {
      "text/plain": [
       "'4.9.0'"
      ]
     },
     "execution_count": 1,
     "metadata": {},
     "output_type": "execute_result"
    }
   ],
   "source": [
    "import cv2\n",
    "cv2.__version__"
   ]
  },
  {
   "cell_type": "code",
   "execution_count": 26,
   "metadata": {},
   "outputs": [],
   "source": [
    "img = cv2.imread('opencv/samples/data/Lena.jpg', 1)"
   ]
  },
  {
   "cell_type": "code",
   "execution_count": 27,
   "metadata": {},
   "outputs": [
    {
     "data": {
      "text/plain": [
       "array([[[128, 138, 225],\n",
       "        [127, 137, 224],\n",
       "        [126, 136, 224],\n",
       "        ...,\n",
       "        [126, 145, 236],\n",
       "        [110, 129, 220],\n",
       "        [ 86, 104, 197]],\n",
       "\n",
       "       [[127, 137, 224],\n",
       "        [127, 137, 224],\n",
       "        [127, 137, 224],\n",
       "        ...,\n",
       "        [130, 150, 235],\n",
       "        [112, 132, 217],\n",
       "        [ 83, 102, 189]],\n",
       "\n",
       "       [[127, 137, 224],\n",
       "        [127, 137, 224],\n",
       "        [128, 138, 225],\n",
       "        ...,\n",
       "        [127, 148, 230],\n",
       "        [112, 133, 215],\n",
       "        [ 85, 105, 190]],\n",
       "\n",
       "       ...,\n",
       "\n",
       "       [[ 55,  21,  82],\n",
       "        [ 54,  20,  81],\n",
       "        [ 62,  28,  92],\n",
       "        ...,\n",
       "        [ 82,  71, 175],\n",
       "        [ 78,  68, 175],\n",
       "        [ 74,  65, 175]],\n",
       "\n",
       "       [[ 55,  18,  80],\n",
       "        [ 56,  19,  81],\n",
       "        [ 66,  32,  96],\n",
       "        ...,\n",
       "        [ 82,  69, 177],\n",
       "        [ 80,  71, 181],\n",
       "        [ 81,  72, 183]],\n",
       "\n",
       "       [[ 56,  19,  81],\n",
       "        [ 58,  21,  83],\n",
       "        [ 68,  34,  98],\n",
       "        ...,\n",
       "        [ 81,  68, 176],\n",
       "        [ 81,  72, 183],\n",
       "        [ 84,  74, 188]]], dtype=uint8)"
      ]
     },
     "execution_count": 27,
     "metadata": {},
     "output_type": "execute_result"
    }
   ],
   "source": [
    "img"
   ]
  },
  {
   "cell_type": "code",
   "execution_count": 28,
   "metadata": {},
   "outputs": [],
   "source": [
    "cv2.imshow('image', img)\n",
    "cv2.waitKey(5000)\n",
    "cv2.destroyAllWindows()"
   ]
  },
  {
   "cell_type": "code",
   "execution_count": null,
   "metadata": {},
   "outputs": [],
   "source": []
  },
  {
   "cell_type": "code",
   "execution_count": null,
   "metadata": {},
   "outputs": [],
   "source": []
  }
 ],
 "metadata": {
  "kernelspec": {
   "display_name": "Python 3",
   "language": "python",
   "name": "python3"
  },
  "language_info": {
   "codemirror_mode": {
    "name": "ipython",
    "version": 3
   },
   "file_extension": ".py",
   "mimetype": "text/x-python",
   "name": "python",
   "nbconvert_exporter": "python",
   "pygments_lexer": "ipython3",
   "version": "3.10.11"
  }
 },
 "nbformat": 4,
 "nbformat_minor": 2
}
